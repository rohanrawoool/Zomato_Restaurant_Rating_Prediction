{
 "cells": [
  {
   "cell_type": "markdown",
   "id": "6522255d",
   "metadata": {},
   "source": [
    "# Importing Required Liabraries"
   ]
  },
  {
   "cell_type": "code",
   "execution_count": 1,
   "id": "745db1ce",
   "metadata": {},
   "outputs": [],
   "source": [
    "import pandas as pd\n",
    "import numpy as np \n",
    "import matplotlib.pyplot as plt\n",
    "import seaborn as sns\n",
    "from ipywidgets import interact\n",
    "import warnings\n",
    "warnings.filterwarnings(\"ignore\")\n",
    "%matplotlib inline\n",
    "import warnings\n",
    "warnings.filterwarnings(\"ignore\")"
   ]
  },
  {
   "cell_type": "code",
   "execution_count": 2,
   "id": "d92f326b",
   "metadata": {},
   "outputs": [],
   "source": [
    "df = pd.read_csv(\"zomato.csv\")"
   ]
  },
  {
   "cell_type": "code",
   "execution_count": 3,
   "id": "0d32b9c8",
   "metadata": {},
   "outputs": [
    {
     "data": {
      "text/html": [
       "<div>\n",
       "<style scoped>\n",
       "    .dataframe tbody tr th:only-of-type {\n",
       "        vertical-align: middle;\n",
       "    }\n",
       "\n",
       "    .dataframe tbody tr th {\n",
       "        vertical-align: top;\n",
       "    }\n",
       "\n",
       "    .dataframe thead th {\n",
       "        text-align: right;\n",
       "    }\n",
       "</style>\n",
       "<table border=\"1\" class=\"dataframe\">\n",
       "  <thead>\n",
       "    <tr style=\"text-align: right;\">\n",
       "      <th></th>\n",
       "      <th>url</th>\n",
       "      <th>address</th>\n",
       "      <th>name</th>\n",
       "      <th>online_order</th>\n",
       "      <th>book_table</th>\n",
       "      <th>rate</th>\n",
       "      <th>votes</th>\n",
       "      <th>phone</th>\n",
       "      <th>location</th>\n",
       "      <th>rest_type</th>\n",
       "      <th>dish_liked</th>\n",
       "      <th>cuisines</th>\n",
       "      <th>approx_cost(for two people)</th>\n",
       "      <th>reviews_list</th>\n",
       "      <th>menu_item</th>\n",
       "      <th>listed_in(type)</th>\n",
       "      <th>listed_in(city)</th>\n",
       "    </tr>\n",
       "  </thead>\n",
       "  <tbody>\n",
       "    <tr>\n",
       "      <th>1092</th>\n",
       "      <td>https://www.zomato.com/bangalore/b-m-w-bhookh-...</td>\n",
       "      <td>Shop 3, Building 58, A Main Road, Marenahalli,...</td>\n",
       "      <td>B.M.W Bhookh Mitaane Wala</td>\n",
       "      <td>Yes</td>\n",
       "      <td>No</td>\n",
       "      <td>3.5/5</td>\n",
       "      <td>8</td>\n",
       "      <td>+91 9655233303</td>\n",
       "      <td>JP Nagar</td>\n",
       "      <td>Quick Bites</td>\n",
       "      <td>NaN</td>\n",
       "      <td>North Indian, South Indian, Chinese</td>\n",
       "      <td>500</td>\n",
       "      <td>[('Rated 1.0', 'RATED\\n  I have ordered twice,...</td>\n",
       "      <td>['Non Veg Biryani Combo', 'Chicken Fried Rice'...</td>\n",
       "      <td>Delivery</td>\n",
       "      <td>Bannerghatta Road</td>\n",
       "    </tr>\n",
       "    <tr>\n",
       "      <th>45667</th>\n",
       "      <td>https://www.zomato.com/bangalore/madurai-idly-...</td>\n",
       "      <td>121, ATR Complex, Opposite ISRO, Murgeshpalya,...</td>\n",
       "      <td>Madurai Idly Shop</td>\n",
       "      <td>No</td>\n",
       "      <td>No</td>\n",
       "      <td>3.4 /5</td>\n",
       "      <td>17</td>\n",
       "      <td>NaN</td>\n",
       "      <td>Old Airport Road</td>\n",
       "      <td>Quick Bites</td>\n",
       "      <td>NaN</td>\n",
       "      <td>South Indian, Chinese</td>\n",
       "      <td>200</td>\n",
       "      <td>[('Rated 2.0', 'RATED\\n  Took parcel from this...</td>\n",
       "      <td>[]</td>\n",
       "      <td>Dine-out</td>\n",
       "      <td>Old Airport Road</td>\n",
       "    </tr>\n",
       "    <tr>\n",
       "      <th>24462</th>\n",
       "      <td>https://www.zomato.com/bangalore/mojo-pizza-2x...</td>\n",
       "      <td>38, First Floor, Kammanahalli Main Road, Kacha...</td>\n",
       "      <td>Mojo Pizza - 2X Toppings</td>\n",
       "      <td>Yes</td>\n",
       "      <td>No</td>\n",
       "      <td>4.1/5</td>\n",
       "      <td>91</td>\n",
       "      <td>022 33252828</td>\n",
       "      <td>Kammanahalli</td>\n",
       "      <td>Delivery</td>\n",
       "      <td>Garlic Bread, Tex Mex Pizza, Pepperoni Pizza, ...</td>\n",
       "      <td>Pizza</td>\n",
       "      <td>600</td>\n",
       "      <td>[('Rated 5.0', 'RATED\\n  Ordered Fantastic fou...</td>\n",
       "      <td>['Some Like It Hot Big 10\"', 'Paneer Mayhem Bi...</td>\n",
       "      <td>Delivery</td>\n",
       "      <td>Kalyan Nagar</td>\n",
       "    </tr>\n",
       "    <tr>\n",
       "      <th>25375</th>\n",
       "      <td>https://www.zomato.com/bangalore/cupcake-bliss...</td>\n",
       "      <td>LLP, 4/1, Janakiram Complex, Second Floor, Opp...</td>\n",
       "      <td>Cupcake Bliss</td>\n",
       "      <td>Yes</td>\n",
       "      <td>No</td>\n",
       "      <td>NaN</td>\n",
       "      <td>0</td>\n",
       "      <td>+91 8197170008</td>\n",
       "      <td>Kalyan Nagar</td>\n",
       "      <td>Takeaway, Delivery</td>\n",
       "      <td>NaN</td>\n",
       "      <td>Bakery</td>\n",
       "      <td>200</td>\n",
       "      <td>[('Rated 1.0', 'RATED\\n  I ordered for assorte...</td>\n",
       "      <td>['Oreo Cupcake', 'Ferrero Rocher Cupcake', 'Ki...</td>\n",
       "      <td>Delivery</td>\n",
       "      <td>Kammanahalli</td>\n",
       "    </tr>\n",
       "    <tr>\n",
       "      <th>8816</th>\n",
       "      <td>https://www.zomato.com/bangalore/new-tasty-caf...</td>\n",
       "      <td>104/2, 1st Cross, 20th Main, Maruthi Nagar Mai...</td>\n",
       "      <td>New Tasty Cafeteria</td>\n",
       "      <td>Yes</td>\n",
       "      <td>No</td>\n",
       "      <td>3.8/5</td>\n",
       "      <td>376</td>\n",
       "      <td>080 26841198\\r\\r\\n+91 8904516291</td>\n",
       "      <td>BTM</td>\n",
       "      <td>Quick Bites</td>\n",
       "      <td>Shawarma, Chicken Grill, Faluda</td>\n",
       "      <td>North Indian, Chinese, Arabian, Rolls, Juices</td>\n",
       "      <td>500</td>\n",
       "      <td>[('Rated 4.0', 'RATED\\n  Very good location it...</td>\n",
       "      <td>[]</td>\n",
       "      <td>Delivery</td>\n",
       "      <td>BTM</td>\n",
       "    </tr>\n",
       "  </tbody>\n",
       "</table>\n",
       "</div>"
      ],
      "text/plain": [
       "                                                     url  \\\n",
       "1092   https://www.zomato.com/bangalore/b-m-w-bhookh-...   \n",
       "45667  https://www.zomato.com/bangalore/madurai-idly-...   \n",
       "24462  https://www.zomato.com/bangalore/mojo-pizza-2x...   \n",
       "25375  https://www.zomato.com/bangalore/cupcake-bliss...   \n",
       "8816   https://www.zomato.com/bangalore/new-tasty-caf...   \n",
       "\n",
       "                                                 address  \\\n",
       "1092   Shop 3, Building 58, A Main Road, Marenahalli,...   \n",
       "45667  121, ATR Complex, Opposite ISRO, Murgeshpalya,...   \n",
       "24462  38, First Floor, Kammanahalli Main Road, Kacha...   \n",
       "25375  LLP, 4/1, Janakiram Complex, Second Floor, Opp...   \n",
       "8816   104/2, 1st Cross, 20th Main, Maruthi Nagar Mai...   \n",
       "\n",
       "                            name online_order book_table    rate  votes  \\\n",
       "1092   B.M.W Bhookh Mitaane Wala          Yes         No   3.5/5      8   \n",
       "45667          Madurai Idly Shop           No         No  3.4 /5     17   \n",
       "24462   Mojo Pizza - 2X Toppings          Yes         No   4.1/5     91   \n",
       "25375              Cupcake Bliss          Yes         No     NaN      0   \n",
       "8816         New Tasty Cafeteria          Yes         No   3.8/5    376   \n",
       "\n",
       "                                  phone          location           rest_type  \\\n",
       "1092                     +91 9655233303          JP Nagar         Quick Bites   \n",
       "45667                               NaN  Old Airport Road         Quick Bites   \n",
       "24462                      022 33252828      Kammanahalli            Delivery   \n",
       "25375                    +91 8197170008      Kalyan Nagar  Takeaway, Delivery   \n",
       "8816   080 26841198\\r\\r\\n+91 8904516291               BTM         Quick Bites   \n",
       "\n",
       "                                              dish_liked  \\\n",
       "1092                                                 NaN   \n",
       "45667                                                NaN   \n",
       "24462  Garlic Bread, Tex Mex Pizza, Pepperoni Pizza, ...   \n",
       "25375                                                NaN   \n",
       "8816                     Shawarma, Chicken Grill, Faluda   \n",
       "\n",
       "                                            cuisines  \\\n",
       "1092             North Indian, South Indian, Chinese   \n",
       "45667                          South Indian, Chinese   \n",
       "24462                                          Pizza   \n",
       "25375                                         Bakery   \n",
       "8816   North Indian, Chinese, Arabian, Rolls, Juices   \n",
       "\n",
       "      approx_cost(for two people)  \\\n",
       "1092                          500   \n",
       "45667                         200   \n",
       "24462                         600   \n",
       "25375                         200   \n",
       "8816                          500   \n",
       "\n",
       "                                            reviews_list  \\\n",
       "1092   [('Rated 1.0', 'RATED\\n  I have ordered twice,...   \n",
       "45667  [('Rated 2.0', 'RATED\\n  Took parcel from this...   \n",
       "24462  [('Rated 5.0', 'RATED\\n  Ordered Fantastic fou...   \n",
       "25375  [('Rated 1.0', 'RATED\\n  I ordered for assorte...   \n",
       "8816   [('Rated 4.0', 'RATED\\n  Very good location it...   \n",
       "\n",
       "                                               menu_item listed_in(type)  \\\n",
       "1092   ['Non Veg Biryani Combo', 'Chicken Fried Rice'...        Delivery   \n",
       "45667                                                 []        Dine-out   \n",
       "24462  ['Some Like It Hot Big 10\"', 'Paneer Mayhem Bi...        Delivery   \n",
       "25375  ['Oreo Cupcake', 'Ferrero Rocher Cupcake', 'Ki...        Delivery   \n",
       "8816                                                  []        Delivery   \n",
       "\n",
       "         listed_in(city)  \n",
       "1092   Bannerghatta Road  \n",
       "45667   Old Airport Road  \n",
       "24462       Kalyan Nagar  \n",
       "25375       Kammanahalli  \n",
       "8816                 BTM  "
      ]
     },
     "execution_count": 3,
     "metadata": {},
     "output_type": "execute_result"
    }
   ],
   "source": [
    "df.sample(5)"
   ]
  },
  {
   "cell_type": "markdown",
   "id": "1825ed0c",
   "metadata": {},
   "source": [
    "# --------------------------------------------------------------------------------------------------------------"
   ]
  },
  {
   "cell_type": "markdown",
   "id": "fe2476b7",
   "metadata": {},
   "source": [
    "# Explonatory Data Analysis"
   ]
  },
  {
   "cell_type": "code",
   "execution_count": 4,
   "id": "7a8e14e1",
   "metadata": {},
   "outputs": [
    {
     "data": {
      "text/plain": [
       "(51717, 17)"
      ]
     },
     "execution_count": 4,
     "metadata": {},
     "output_type": "execute_result"
    }
   ],
   "source": [
    " df.shape"
   ]
  },
  {
   "cell_type": "markdown",
   "id": "c7d97d4a",
   "metadata": {},
   "source": [
    "In This Dataset We Have 51,717 Rows and 17 Columns"
   ]
  },
  {
   "cell_type": "code",
   "execution_count": 5,
   "id": "0553b2e4",
   "metadata": {},
   "outputs": [
    {
     "name": "stdout",
     "output_type": "stream",
     "text": [
      "<class 'pandas.core.frame.DataFrame'>\n",
      "RangeIndex: 51717 entries, 0 to 51716\n",
      "Data columns (total 17 columns):\n",
      " #   Column                       Non-Null Count  Dtype \n",
      "---  ------                       --------------  ----- \n",
      " 0   url                          51717 non-null  object\n",
      " 1   address                      51717 non-null  object\n",
      " 2   name                         51717 non-null  object\n",
      " 3   online_order                 51717 non-null  object\n",
      " 4   book_table                   51717 non-null  object\n",
      " 5   rate                         43942 non-null  object\n",
      " 6   votes                        51717 non-null  int64 \n",
      " 7   phone                        50509 non-null  object\n",
      " 8   location                     51696 non-null  object\n",
      " 9   rest_type                    51490 non-null  object\n",
      " 10  dish_liked                   23639 non-null  object\n",
      " 11  cuisines                     51672 non-null  object\n",
      " 12  approx_cost(for two people)  51371 non-null  object\n",
      " 13  reviews_list                 51717 non-null  object\n",
      " 14  menu_item                    51717 non-null  object\n",
      " 15  listed_in(type)              51717 non-null  object\n",
      " 16  listed_in(city)              51717 non-null  object\n",
      "dtypes: int64(1), object(16)\n",
      "memory usage: 6.7+ MB\n"
     ]
    }
   ],
   "source": [
    "df.info()"
   ]
  },
  {
   "cell_type": "raw",
   "id": "bff17d6e",
   "metadata": {},
   "source": [
    "We Have Some Null Values Present in this Dataset"
   ]
  },
  {
   "cell_type": "markdown",
   "id": "a8ace835",
   "metadata": {},
   "source": [
    "Checking for Null Values"
   ]
  },
  {
   "cell_type": "code",
   "execution_count": 6,
   "id": "9d6d3477",
   "metadata": {},
   "outputs": [
    {
     "data": {
      "text/plain": [
       "url                                0\n",
       "address                            0\n",
       "name                               0\n",
       "online_order                       0\n",
       "book_table                         0\n",
       "rate                            7775\n",
       "votes                              0\n",
       "phone                           1208\n",
       "location                          21\n",
       "rest_type                        227\n",
       "dish_liked                     28078\n",
       "cuisines                          45\n",
       "approx_cost(for two people)      346\n",
       "reviews_list                       0\n",
       "menu_item                          0\n",
       "listed_in(type)                    0\n",
       "listed_in(city)                    0\n",
       "dtype: int64"
      ]
     },
     "execution_count": 6,
     "metadata": {},
     "output_type": "execute_result"
    }
   ],
   "source": [
    "df.isnull().sum()"
   ]
  },
  {
   "cell_type": "code",
   "execution_count": 7,
   "id": "296eb34f",
   "metadata": {},
   "outputs": [
    {
     "data": {
      "text/plain": [
       "Index(['url', 'address', 'name', 'online_order', 'book_table', 'rate', 'votes',\n",
       "       'phone', 'location', 'rest_type', 'dish_liked', 'cuisines',\n",
       "       'approx_cost(for two people)', 'reviews_list', 'menu_item',\n",
       "       'listed_in(type)', 'listed_in(city)'],\n",
       "      dtype='object')"
      ]
     },
     "execution_count": 7,
     "metadata": {},
     "output_type": "execute_result"
    }
   ],
   "source": [
    "# Columns in Dataset\n",
    "df.columns"
   ]
  },
  {
   "cell_type": "markdown",
   "id": "d145104d",
   "metadata": {},
   "source": [
    "# ---------------------------------------------------------------------------------------------------------------"
   ]
  },
  {
   "cell_type": "markdown",
   "id": "5882fc96",
   "metadata": {},
   "source": [
    "# Removing unwanted column"
   ]
  },
  {
   "cell_type": "code",
   "execution_count": 8,
   "id": "a20cebb3",
   "metadata": {},
   "outputs": [
    {
     "data": {
      "text/html": [
       "<div>\n",
       "<style scoped>\n",
       "    .dataframe tbody tr th:only-of-type {\n",
       "        vertical-align: middle;\n",
       "    }\n",
       "\n",
       "    .dataframe tbody tr th {\n",
       "        vertical-align: top;\n",
       "    }\n",
       "\n",
       "    .dataframe thead th {\n",
       "        text-align: right;\n",
       "    }\n",
       "</style>\n",
       "<table border=\"1\" class=\"dataframe\">\n",
       "  <thead>\n",
       "    <tr style=\"text-align: right;\">\n",
       "      <th></th>\n",
       "      <th>online_order</th>\n",
       "      <th>book_table</th>\n",
       "      <th>rate</th>\n",
       "      <th>votes</th>\n",
       "      <th>location</th>\n",
       "      <th>rest_type</th>\n",
       "      <th>dish_liked</th>\n",
       "      <th>cuisines</th>\n",
       "      <th>approx_cost(for two people)</th>\n",
       "      <th>listed_in(type)</th>\n",
       "      <th>listed_in(city)</th>\n",
       "    </tr>\n",
       "  </thead>\n",
       "  <tbody>\n",
       "    <tr>\n",
       "      <th>0</th>\n",
       "      <td>Yes</td>\n",
       "      <td>Yes</td>\n",
       "      <td>4.1/5</td>\n",
       "      <td>775</td>\n",
       "      <td>Banashankari</td>\n",
       "      <td>Casual Dining</td>\n",
       "      <td>Pasta, Lunch Buffet, Masala Papad, Paneer Laja...</td>\n",
       "      <td>North Indian, Mughlai, Chinese</td>\n",
       "      <td>800</td>\n",
       "      <td>Buffet</td>\n",
       "      <td>Banashankari</td>\n",
       "    </tr>\n",
       "    <tr>\n",
       "      <th>1</th>\n",
       "      <td>Yes</td>\n",
       "      <td>No</td>\n",
       "      <td>4.1/5</td>\n",
       "      <td>787</td>\n",
       "      <td>Banashankari</td>\n",
       "      <td>Casual Dining</td>\n",
       "      <td>Momos, Lunch Buffet, Chocolate Nirvana, Thai G...</td>\n",
       "      <td>Chinese, North Indian, Thai</td>\n",
       "      <td>800</td>\n",
       "      <td>Buffet</td>\n",
       "      <td>Banashankari</td>\n",
       "    </tr>\n",
       "    <tr>\n",
       "      <th>2</th>\n",
       "      <td>Yes</td>\n",
       "      <td>No</td>\n",
       "      <td>3.8/5</td>\n",
       "      <td>918</td>\n",
       "      <td>Banashankari</td>\n",
       "      <td>Cafe, Casual Dining</td>\n",
       "      <td>Churros, Cannelloni, Minestrone Soup, Hot Choc...</td>\n",
       "      <td>Cafe, Mexican, Italian</td>\n",
       "      <td>800</td>\n",
       "      <td>Buffet</td>\n",
       "      <td>Banashankari</td>\n",
       "    </tr>\n",
       "    <tr>\n",
       "      <th>3</th>\n",
       "      <td>No</td>\n",
       "      <td>No</td>\n",
       "      <td>3.7/5</td>\n",
       "      <td>88</td>\n",
       "      <td>Banashankari</td>\n",
       "      <td>Quick Bites</td>\n",
       "      <td>Masala Dosa</td>\n",
       "      <td>South Indian, North Indian</td>\n",
       "      <td>300</td>\n",
       "      <td>Buffet</td>\n",
       "      <td>Banashankari</td>\n",
       "    </tr>\n",
       "    <tr>\n",
       "      <th>4</th>\n",
       "      <td>No</td>\n",
       "      <td>No</td>\n",
       "      <td>3.8/5</td>\n",
       "      <td>166</td>\n",
       "      <td>Basavanagudi</td>\n",
       "      <td>Casual Dining</td>\n",
       "      <td>Panipuri, Gol Gappe</td>\n",
       "      <td>North Indian, Rajasthani</td>\n",
       "      <td>600</td>\n",
       "      <td>Buffet</td>\n",
       "      <td>Banashankari</td>\n",
       "    </tr>\n",
       "  </tbody>\n",
       "</table>\n",
       "</div>"
      ],
      "text/plain": [
       "  online_order book_table   rate  votes      location            rest_type  \\\n",
       "0          Yes        Yes  4.1/5    775  Banashankari        Casual Dining   \n",
       "1          Yes         No  4.1/5    787  Banashankari        Casual Dining   \n",
       "2          Yes         No  3.8/5    918  Banashankari  Cafe, Casual Dining   \n",
       "3           No         No  3.7/5     88  Banashankari          Quick Bites   \n",
       "4           No         No  3.8/5    166  Basavanagudi        Casual Dining   \n",
       "\n",
       "                                          dish_liked  \\\n",
       "0  Pasta, Lunch Buffet, Masala Papad, Paneer Laja...   \n",
       "1  Momos, Lunch Buffet, Chocolate Nirvana, Thai G...   \n",
       "2  Churros, Cannelloni, Minestrone Soup, Hot Choc...   \n",
       "3                                        Masala Dosa   \n",
       "4                                Panipuri, Gol Gappe   \n",
       "\n",
       "                         cuisines approx_cost(for two people) listed_in(type)  \\\n",
       "0  North Indian, Mughlai, Chinese                         800          Buffet   \n",
       "1     Chinese, North Indian, Thai                         800          Buffet   \n",
       "2          Cafe, Mexican, Italian                         800          Buffet   \n",
       "3      South Indian, North Indian                         300          Buffet   \n",
       "4        North Indian, Rajasthani                         600          Buffet   \n",
       "\n",
       "  listed_in(city)  \n",
       "0    Banashankari  \n",
       "1    Banashankari  \n",
       "2    Banashankari  \n",
       "3    Banashankari  \n",
       "4    Banashankari  "
      ]
     },
     "execution_count": 8,
     "metadata": {},
     "output_type": "execute_result"
    }
   ],
   "source": [
    "del df['url']\n",
    "\n",
    "del df['address']\n",
    "\n",
    "del df['name']\n",
    "\n",
    "del df['phone']\n",
    "\n",
    "del df['reviews_list']\n",
    "\n",
    "del df['menu_item']\n",
    "\n",
    "\n",
    "df.head()"
   ]
  },
  {
   "cell_type": "code",
   "execution_count": 9,
   "id": "2b6df74a",
   "metadata": {},
   "outputs": [
    {
     "data": {
      "text/plain": [
       "(51717, 11)"
      ]
     },
     "execution_count": 9,
     "metadata": {},
     "output_type": "execute_result"
    }
   ],
   "source": [
    "df.shape"
   ]
  },
  {
   "cell_type": "markdown",
   "id": "f9c43532",
   "metadata": {},
   "source": [
    "# ---------------------------------------------------------------------------------------------------------------"
   ]
  },
  {
   "cell_type": "markdown",
   "id": "c2ff2272",
   "metadata": {},
   "source": [
    "# Checking for Duplicate Values"
   ]
  },
  {
   "cell_type": "code",
   "execution_count": 10,
   "id": "df9797b8",
   "metadata": {},
   "outputs": [
    {
     "data": {
      "text/plain": [
       "371"
      ]
     },
     "execution_count": 10,
     "metadata": {},
     "output_type": "execute_result"
    }
   ],
   "source": [
    "df.duplicated().sum()"
   ]
  },
  {
   "cell_type": "code",
   "execution_count": 11,
   "id": "ed2356f5",
   "metadata": {},
   "outputs": [],
   "source": [
    "df.drop_duplicates(inplace=True)"
   ]
  },
  {
   "cell_type": "code",
   "execution_count": 12,
   "id": "9143597d",
   "metadata": {},
   "outputs": [
    {
     "data": {
      "text/plain": [
       "0"
      ]
     },
     "execution_count": 12,
     "metadata": {},
     "output_type": "execute_result"
    }
   ],
   "source": [
    "df.duplicated().sum()"
   ]
  },
  {
   "cell_type": "markdown",
   "id": "04b02c03",
   "metadata": {},
   "source": [
    "# --------------------------------------------------------------------------------------------------------------"
   ]
  },
  {
   "cell_type": "markdown",
   "id": "3dcba8f6",
   "metadata": {},
   "source": [
    "# Handling Missing / Null Values"
   ]
  },
  {
   "cell_type": "code",
   "execution_count": 13,
   "id": "d0df6782",
   "metadata": {},
   "outputs": [
    {
     "data": {
      "text/plain": [
       "online_order                    0.000000\n",
       "book_table                      0.000000\n",
       "rate                           14.645737\n",
       "votes                           0.000000\n",
       "location                        0.037004\n",
       "rest_type                       0.438204\n",
       "dish_liked                     54.047053\n",
       "cuisines                        0.083746\n",
       "approx_cost(for two people)     0.664122\n",
       "listed_in(type)                 0.000000\n",
       "listed_in(city)                 0.000000\n",
       "dtype: float64"
      ]
     },
     "execution_count": 13,
     "metadata": {},
     "output_type": "execute_result"
    }
   ],
   "source": [
    "# Checking Null Values in percentage\n",
    "df.isnull().sum()/df.shape[0]*100"
   ]
  },
  {
   "cell_type": "code",
   "execution_count": 14,
   "id": "8c6eb503",
   "metadata": {},
   "outputs": [
    {
     "data": {
      "text/plain": [
       "online_order                       0\n",
       "book_table                         0\n",
       "rate                            7520\n",
       "votes                              0\n",
       "location                          19\n",
       "rest_type                        225\n",
       "dish_liked                     27751\n",
       "cuisines                          43\n",
       "approx_cost(for two people)      341\n",
       "listed_in(type)                    0\n",
       "listed_in(city)                    0\n",
       "dtype: int64"
      ]
     },
     "execution_count": 14,
     "metadata": {},
     "output_type": "execute_result"
    }
   ],
   "source": [
    "df.isnull().sum()"
   ]
  },
  {
   "cell_type": "code",
   "execution_count": 15,
   "id": "3a4a6b1f",
   "metadata": {},
   "outputs": [],
   "source": [
    "df['votes'] = df[\"votes\"].astype(\"int32\")"
   ]
  },
  {
   "cell_type": "markdown",
   "id": "afef84a8",
   "metadata": {},
   "source": [
    "# Dish Liked Column has 27751 Null Values."
   ]
  },
  {
   "cell_type": "code",
   "execution_count": 16,
   "id": "1d42363a",
   "metadata": {},
   "outputs": [
    {
     "data": {
      "text/plain": [
       "27751"
      ]
     },
     "execution_count": 16,
     "metadata": {},
     "output_type": "execute_result"
    }
   ],
   "source": [
    "df[\"dish_liked\"].isna().sum()"
   ]
  },
  {
   "cell_type": "markdown",
   "id": "f8a569bc",
   "metadata": {},
   "source": [
    "# Rate Column has 7520 Null Values."
   ]
  },
  {
   "cell_type": "code",
   "execution_count": 17,
   "id": "eea55f93",
   "metadata": {},
   "outputs": [
    {
     "data": {
      "text/plain": [
       "7520"
      ]
     },
     "execution_count": 17,
     "metadata": {},
     "output_type": "execute_result"
    }
   ],
   "source": [
    "df[\"rate\"].isna().sum()"
   ]
  },
  {
   "cell_type": "code",
   "execution_count": 18,
   "id": "6bce5da4",
   "metadata": {},
   "outputs": [
    {
     "data": {
      "text/plain": [
       "array(['4.1/5', '3.8/5', '3.7/5', '3.6/5', '4.6/5', '4.0/5', '4.2/5',\n",
       "       '3.9/5', '3.1/5', '3.0/5', '3.2/5', '3.3/5', '2.8/5', '4.4/5',\n",
       "       '4.3/5', 'NEW', '2.9/5', '3.5/5', nan, '2.6/5', '3.8 /5', '3.4/5',\n",
       "       '4.5/5', '2.5/5', '2.7/5', '4.7/5', '2.4/5', '2.2/5', '2.3/5',\n",
       "       '3.4 /5', '-', '3.6 /5', '4.8/5', '3.9 /5', '4.2 /5', '4.0 /5',\n",
       "       '4.1 /5', '3.7 /5', '3.1 /5', '2.9 /5', '3.3 /5', '2.8 /5',\n",
       "       '3.5 /5', '2.7 /5', '2.5 /5', '3.2 /5', '2.6 /5', '4.5 /5',\n",
       "       '4.3 /5', '4.4 /5', '4.9/5', '2.1/5', '2.0/5', '1.8/5', '4.6 /5',\n",
       "       '4.9 /5', '3.0 /5', '4.8 /5', '2.3 /5', '4.7 /5', '2.4 /5',\n",
       "       '2.1 /5', '2.2 /5', '2.0 /5', '1.8 /5'], dtype=object)"
      ]
     },
     "execution_count": 18,
     "metadata": {},
     "output_type": "execute_result"
    }
   ],
   "source": [
    "df['rate'].unique()"
   ]
  },
  {
   "cell_type": "code",
   "execution_count": 19,
   "id": "76c42761",
   "metadata": {},
   "outputs": [],
   "source": [
    "df['rate']=df['rate'].str.replace(\"/5\",\"\")"
   ]
  },
  {
   "cell_type": "code",
   "execution_count": 20,
   "id": "062af64e",
   "metadata": {},
   "outputs": [],
   "source": [
    "df['rate']=df['rate'].str.replace('NEW','nan')\n",
    "df['rate']=df['rate'].str.replace(\" \",\"\")\n",
    "df['rate']=df['rate'].str.replace(\"-\",'nan')"
   ]
  },
  {
   "cell_type": "code",
   "execution_count": 21,
   "id": "36cdb2d0",
   "metadata": {},
   "outputs": [
    {
     "data": {
      "text/plain": [
       "array(['4.1', '3.8', '3.7', '3.6', '4.6', '4.0', '4.2', '3.9', '3.1',\n",
       "       '3.0', '3.2', '3.3', '2.8', '4.4', '4.3', 'nan', '2.9', '3.5', nan,\n",
       "       '2.6', '3.4', '4.5', '2.5', '2.7', '4.7', '2.4', '2.2', '2.3',\n",
       "       '4.8', '4.9', '2.1', '2.0', '1.8'], dtype=object)"
      ]
     },
     "execution_count": 21,
     "metadata": {},
     "output_type": "execute_result"
    }
   ],
   "source": [
    "df['rate'].unique() \n",
    "# Now this column has only nan value\n",
    "# we removed all other strings, unwanted space from column"
   ]
  },
  {
   "cell_type": "markdown",
   "id": "3b39acb5",
   "metadata": {},
   "source": [
    "# Remove ',' from \"approx_cost(for two people)\" columns"
   ]
  },
  {
   "cell_type": "code",
   "execution_count": 22,
   "id": "d142083e",
   "metadata": {},
   "outputs": [],
   "source": [
    "df[\"approx_cost(for two people)\"]= df[\"approx_cost(for two people)\"].str.replace(\",\",\"\")"
   ]
  },
  {
   "cell_type": "code",
   "execution_count": 23,
   "id": "bdc6ee2c",
   "metadata": {},
   "outputs": [
    {
     "data": {
      "text/plain": [
       "online_order                       0\n",
       "book_table                         0\n",
       "rate                            7520\n",
       "votes                              0\n",
       "location                          19\n",
       "rest_type                        225\n",
       "dish_liked                     27751\n",
       "cuisines                          43\n",
       "approx_cost(for two people)      341\n",
       "listed_in(type)                    0\n",
       "listed_in(city)                    0\n",
       "dtype: int64"
      ]
     },
     "execution_count": 23,
     "metadata": {},
     "output_type": "execute_result"
    }
   ],
   "source": [
    "df.isnull().sum()"
   ]
  },
  {
   "cell_type": "code",
   "execution_count": 24,
   "id": "f57a06d3",
   "metadata": {},
   "outputs": [],
   "source": [
    "df = df.rename(columns={\"approx_cost(for two people)\":\"avg_cost\",\n",
    "                        \"listed_in(type)\":\"meal_type\",\n",
    "                        \"listed_in(city)\":\"city\"})"
   ]
  },
  {
   "cell_type": "markdown",
   "id": "f2d52b52",
   "metadata": {},
   "source": [
    "# Remove Null values from 'Rates' and \"avg_cost\" columns"
   ]
  },
  {
   "cell_type": "code",
   "execution_count": 25,
   "id": "6f5c3f6a",
   "metadata": {},
   "outputs": [],
   "source": [
    "df.dropna(subset=[\"rate\",\"avg_cost\",\"meal_type\"],inplace=True)"
   ]
  },
  {
   "cell_type": "code",
   "execution_count": 26,
   "id": "1a1be4b5",
   "metadata": {},
   "outputs": [],
   "source": [
    "df[\"avg_cost\"]=df[\"avg_cost\"].astype(\"int\")"
   ]
  },
  {
   "cell_type": "code",
   "execution_count": 27,
   "id": "9867ce13",
   "metadata": {},
   "outputs": [
    {
     "data": {
      "text/plain": [
       "online_order        0\n",
       "book_table          0\n",
       "rate                0\n",
       "votes               0\n",
       "location            0\n",
       "rest_type         149\n",
       "dish_liked      20144\n",
       "cuisines            8\n",
       "avg_cost            0\n",
       "meal_type           0\n",
       "city                0\n",
       "dtype: int64"
      ]
     },
     "execution_count": 27,
     "metadata": {},
     "output_type": "execute_result"
    }
   ],
   "source": [
    "df.isnull().sum()"
   ]
  },
  {
   "cell_type": "markdown",
   "id": "688d22c9",
   "metadata": {},
   "source": [
    "# Remove 'cuisine' null values"
   ]
  },
  {
   "cell_type": "code",
   "execution_count": 28,
   "id": "029e4c3d",
   "metadata": {},
   "outputs": [],
   "source": [
    "df = df[df.cuisines.isna()==False]\n",
    "df = df[df.rest_type.isna()==False]"
   ]
  },
  {
   "cell_type": "code",
   "execution_count": 29,
   "id": "bf5e8946",
   "metadata": {},
   "outputs": [
    {
     "data": {
      "text/plain": [
       "online_order        0\n",
       "book_table          0\n",
       "rate                0\n",
       "votes               0\n",
       "location            0\n",
       "rest_type           0\n",
       "dish_liked      20055\n",
       "cuisines            0\n",
       "avg_cost            0\n",
       "meal_type           0\n",
       "city                0\n",
       "dtype: int64"
      ]
     },
     "execution_count": 29,
     "metadata": {},
     "output_type": "execute_result"
    }
   ],
   "source": [
    "df.isnull().sum()"
   ]
  },
  {
   "cell_type": "code",
   "execution_count": 30,
   "id": "13f0c43c",
   "metadata": {},
   "outputs": [],
   "source": [
    "# Now Only Dish_Liked Column has Null Values"
   ]
  },
  {
   "cell_type": "code",
   "execution_count": 31,
   "id": "de022735",
   "metadata": {},
   "outputs": [
    {
     "data": {
      "text/plain": [
       "array(['Banashankari', 'Basavanagudi', 'Mysore Road', 'Jayanagar',\n",
       "       'Kumaraswamy Layout', 'Rajarajeshwari Nagar', 'Vijay Nagar',\n",
       "       'Uttarahalli', 'JP Nagar', 'South Bangalore', 'City Market',\n",
       "       'Bannerghatta Road', 'BTM', 'Kanakapura Road', 'Bommanahalli',\n",
       "       'CV Raman Nagar', 'Electronic City', 'Wilson Garden',\n",
       "       'Shanti Nagar', 'Koramangala 5th Block', 'Richmond Road', 'HSR',\n",
       "       'Marathahalli', 'Koramangala 7th Block', 'Bellandur',\n",
       "       'Sarjapur Road', 'Whitefield', 'East Bangalore',\n",
       "       'Old Airport Road', 'Indiranagar', 'Koramangala 1st Block',\n",
       "       'Frazer Town', 'MG Road', 'Brigade Road', 'Lavelle Road',\n",
       "       'Church Street', 'Ulsoor', 'Residency Road', 'Shivajinagar',\n",
       "       'Infantry Road', 'St. Marks Road', 'Cunningham Road',\n",
       "       'Race Course Road', 'Commercial Street', 'Vasanth Nagar', 'Domlur',\n",
       "       'Koramangala 8th Block', 'Ejipura', 'Jeevan Bhima Nagar',\n",
       "       'Old Madras Road', 'Seshadripuram', 'Kammanahalli',\n",
       "       'Koramangala 6th Block', 'Majestic', 'Langford Town',\n",
       "       'Central Bangalore', 'Sanjay Nagar', 'Brookefield',\n",
       "       'ITPL Main Road, Whitefield', 'Varthur Main Road, Whitefield',\n",
       "       'Koramangala 2nd Block', 'Koramangala 3rd Block',\n",
       "       'Koramangala 4th Block', 'Koramangala', 'Hosur Road',\n",
       "       'Rajajinagar', 'RT Nagar', 'Banaswadi', 'North Bangalore',\n",
       "       'Nagawara', 'Hennur', 'Kalyan Nagar', 'HBR Layout',\n",
       "       'Rammurthy Nagar', 'Thippasandra', 'Kaggadasapura', 'Hebbal',\n",
       "       'Kengeri', 'New BEL Road', 'Sankey Road', 'Malleshwaram',\n",
       "       'Sadashiv Nagar', 'Basaveshwara Nagar', 'Yeshwantpur',\n",
       "       'West Bangalore', 'Magadi Road', 'Yelahanka', 'Sahakara Nagar',\n",
       "       'Jalahalli', 'Nagarbhavi', 'Peenya', 'KR Puram'], dtype=object)"
      ]
     },
     "execution_count": 31,
     "metadata": {},
     "output_type": "execute_result"
    }
   ],
   "source": [
    "df[\"location\"].unique()"
   ]
  },
  {
   "cell_type": "code",
   "execution_count": 32,
   "id": "d255d7fd",
   "metadata": {},
   "outputs": [
    {
     "data": {
      "text/plain": [
       "array(['Banashankari', 'Bannerghatta Road', 'Basavanagudi', 'Bellandur',\n",
       "       'Brigade Road', 'Brookefield', 'BTM', 'Church Street',\n",
       "       'Electronic City', 'Frazer Town', 'HSR', 'Indiranagar',\n",
       "       'Jayanagar', 'JP Nagar', 'Kalyan Nagar', 'Kammanahalli',\n",
       "       'Koramangala 4th Block', 'Koramangala 5th Block',\n",
       "       'Koramangala 6th Block', 'Koramangala 7th Block', 'Lavelle Road',\n",
       "       'Malleshwaram', 'Marathahalli', 'MG Road', 'New BEL Road',\n",
       "       'Old Airport Road', 'Rajajinagar', 'Residency Road',\n",
       "       'Sarjapur Road', 'Whitefield'], dtype=object)"
      ]
     },
     "execution_count": 32,
     "metadata": {},
     "output_type": "execute_result"
    }
   ],
   "source": [
    "df[\"city\"].unique()"
   ]
  },
  {
   "cell_type": "markdown",
   "id": "4aa19a91",
   "metadata": {},
   "source": [
    "# As you see 'Location' columns has more sublocations\n",
    "# and 'city' columns have a better Locations so we drop 'Location' column"
   ]
  },
  {
   "cell_type": "code",
   "execution_count": 33,
   "id": "a845f66d",
   "metadata": {},
   "outputs": [
    {
     "data": {
      "text/html": [
       "<div>\n",
       "<style scoped>\n",
       "    .dataframe tbody tr th:only-of-type {\n",
       "        vertical-align: middle;\n",
       "    }\n",
       "\n",
       "    .dataframe tbody tr th {\n",
       "        vertical-align: top;\n",
       "    }\n",
       "\n",
       "    .dataframe thead th {\n",
       "        text-align: right;\n",
       "    }\n",
       "</style>\n",
       "<table border=\"1\" class=\"dataframe\">\n",
       "  <thead>\n",
       "    <tr style=\"text-align: right;\">\n",
       "      <th></th>\n",
       "      <th>online_order</th>\n",
       "      <th>book_table</th>\n",
       "      <th>rate</th>\n",
       "      <th>votes</th>\n",
       "      <th>rest_type</th>\n",
       "      <th>dish_liked</th>\n",
       "      <th>cuisines</th>\n",
       "      <th>avg_cost</th>\n",
       "      <th>meal_type</th>\n",
       "      <th>city</th>\n",
       "    </tr>\n",
       "  </thead>\n",
       "  <tbody>\n",
       "    <tr>\n",
       "      <th>0</th>\n",
       "      <td>Yes</td>\n",
       "      <td>Yes</td>\n",
       "      <td>4.1</td>\n",
       "      <td>775</td>\n",
       "      <td>Casual Dining</td>\n",
       "      <td>Pasta, Lunch Buffet, Masala Papad, Paneer Laja...</td>\n",
       "      <td>North Indian, Mughlai, Chinese</td>\n",
       "      <td>800</td>\n",
       "      <td>Buffet</td>\n",
       "      <td>Banashankari</td>\n",
       "    </tr>\n",
       "    <tr>\n",
       "      <th>1</th>\n",
       "      <td>Yes</td>\n",
       "      <td>No</td>\n",
       "      <td>4.1</td>\n",
       "      <td>787</td>\n",
       "      <td>Casual Dining</td>\n",
       "      <td>Momos, Lunch Buffet, Chocolate Nirvana, Thai G...</td>\n",
       "      <td>Chinese, North Indian, Thai</td>\n",
       "      <td>800</td>\n",
       "      <td>Buffet</td>\n",
       "      <td>Banashankari</td>\n",
       "    </tr>\n",
       "    <tr>\n",
       "      <th>2</th>\n",
       "      <td>Yes</td>\n",
       "      <td>No</td>\n",
       "      <td>3.8</td>\n",
       "      <td>918</td>\n",
       "      <td>Cafe, Casual Dining</td>\n",
       "      <td>Churros, Cannelloni, Minestrone Soup, Hot Choc...</td>\n",
       "      <td>Cafe, Mexican, Italian</td>\n",
       "      <td>800</td>\n",
       "      <td>Buffet</td>\n",
       "      <td>Banashankari</td>\n",
       "    </tr>\n",
       "    <tr>\n",
       "      <th>3</th>\n",
       "      <td>No</td>\n",
       "      <td>No</td>\n",
       "      <td>3.7</td>\n",
       "      <td>88</td>\n",
       "      <td>Quick Bites</td>\n",
       "      <td>Masala Dosa</td>\n",
       "      <td>South Indian, North Indian</td>\n",
       "      <td>300</td>\n",
       "      <td>Buffet</td>\n",
       "      <td>Banashankari</td>\n",
       "    </tr>\n",
       "    <tr>\n",
       "      <th>4</th>\n",
       "      <td>No</td>\n",
       "      <td>No</td>\n",
       "      <td>3.8</td>\n",
       "      <td>166</td>\n",
       "      <td>Casual Dining</td>\n",
       "      <td>Panipuri, Gol Gappe</td>\n",
       "      <td>North Indian, Rajasthani</td>\n",
       "      <td>600</td>\n",
       "      <td>Buffet</td>\n",
       "      <td>Banashankari</td>\n",
       "    </tr>\n",
       "  </tbody>\n",
       "</table>\n",
       "</div>"
      ],
      "text/plain": [
       "  online_order book_table rate  votes            rest_type  \\\n",
       "0          Yes        Yes  4.1    775        Casual Dining   \n",
       "1          Yes         No  4.1    787        Casual Dining   \n",
       "2          Yes         No  3.8    918  Cafe, Casual Dining   \n",
       "3           No         No  3.7     88          Quick Bites   \n",
       "4           No         No  3.8    166        Casual Dining   \n",
       "\n",
       "                                          dish_liked  \\\n",
       "0  Pasta, Lunch Buffet, Masala Papad, Paneer Laja...   \n",
       "1  Momos, Lunch Buffet, Chocolate Nirvana, Thai G...   \n",
       "2  Churros, Cannelloni, Minestrone Soup, Hot Choc...   \n",
       "3                                        Masala Dosa   \n",
       "4                                Panipuri, Gol Gappe   \n",
       "\n",
       "                         cuisines  avg_cost meal_type          city  \n",
       "0  North Indian, Mughlai, Chinese       800    Buffet  Banashankari  \n",
       "1     Chinese, North Indian, Thai       800    Buffet  Banashankari  \n",
       "2          Cafe, Mexican, Italian       800    Buffet  Banashankari  \n",
       "3      South Indian, North Indian       300    Buffet  Banashankari  \n",
       "4        North Indian, Rajasthani       600    Buffet  Banashankari  "
      ]
     },
     "execution_count": 33,
     "metadata": {},
     "output_type": "execute_result"
    }
   ],
   "source": [
    "del df[\"location\"]\n",
    "df.head()"
   ]
  },
  {
   "cell_type": "markdown",
   "id": "78d4d30c",
   "metadata": {},
   "source": [
    "# ---------------------------------------------------------------------------------------------------------"
   ]
  },
  {
   "cell_type": "markdown",
   "id": "b72b2537",
   "metadata": {},
   "source": [
    "#                                           Data Visualization "
   ]
  },
  {
   "cell_type": "markdown",
   "id": "e72be702",
   "metadata": {},
   "source": [
    "# ------------------------------------------------------------------------------------------------------------"
   ]
  },
  {
   "cell_type": "markdown",
   "id": "0e7b6e49",
   "metadata": {},
   "source": [
    "# Number of Restaurants that make online orders ?"
   ]
  },
  {
   "cell_type": "code",
   "execution_count": 34,
   "id": "20082d1c",
   "metadata": {},
   "outputs": [
    {
     "data": {
      "image/png": "[encoded data removed]",
      "text/plain": [
       "<Figure size 720x720 with 1 Axes>"
      ]
     },
     "metadata": {
      "needs_background": "light"
     },
     "output_type": "display_data"
    }
   ],
   "source": [
    "plt.figure(figsize=(10,10))\n",
    "\n",
    "sns.countplot(df[\"online_order\"])\n",
    "plt.title(\"Online vs Offile Order Distribution\")\n",
    "plt.xlabel(\"Distrubution of Data\")\n",
    "plt.ylabel(\"Counts\")\n",
    "plt.grid()"
   ]
  },
  {
   "cell_type": "markdown",
   "id": "5be0a4eb",
   "metadata": {},
   "source": [
    "# Number of Restaurants that Have the option of Book Table ?"
   ]
  },
  {
   "cell_type": "code",
   "execution_count": 35,
   "id": "51cab506",
   "metadata": {},
   "outputs": [
    {
     "data": {
      "text/plain": [
       "Text(0.5, 1.0, 'Book Table Option Distribution')"
      ]
     },
     "execution_count": 35,
     "metadata": {},
     "output_type": "execute_result"
    },
    {
     "data": {
      "image/png": "[encoded data removed]",
      "text/plain": [
       "<Figure size 432x288 with 1 Axes>"
      ]
     },
     "metadata": {
      "needs_background": "light"
     },
     "output_type": "display_data"
    }
   ],
   "source": [
    "sns.countplot(df[\"book_table\"])\n",
    "plt.title(\"Book Table Option Distribution\")\n"
   ]
  },
  {
   "cell_type": "markdown",
   "id": "06ea19fc",
   "metadata": {},
   "source": [
    "# No of Restaurant According to meal type"
   ]
  },
  {
   "cell_type": "code",
   "execution_count": 36,
   "id": "437d5afe",
   "metadata": {},
   "outputs": [
    {
     "data": {
      "text/plain": [
       "Text(0.5, 1.0, 'No of Restaurants According to Meal Type')"
      ]
     },
     "execution_count": 36,
     "metadata": {},
     "output_type": "execute_result"
    },
    {
     "data": {
      "image/png": "[encoded data removed]",
      "text/plain": [
       "<Figure size 720x720 with 1 Axes>"
      ]
     },
     "metadata": {},
     "output_type": "display_data"
    }
   ],
   "source": [
    "plt.figure(figsize=(10,10))\n",
    "ax= df[\"meal_type\"].value_counts()\n",
    "labels = df[\"meal_type\"].value_counts().index\n",
    "plt.pie(ax,labels=labels,autopct=\"%.2f\")\n",
    "plt.legend()\n",
    "plt.title(\"No of Restaurants According to Meal Type\",fontsize=25,color=\"green\")\n"
   ]
  },
  {
   "cell_type": "markdown",
   "id": "076bb0d7",
   "metadata": {},
   "source": [
    "# No of Restaurant in each area of Bangalore"
   ]
  },
  {
   "cell_type": "code",
   "execution_count": 37,
   "id": "370008bf",
   "metadata": {},
   "outputs": [
    {
     "data": {
      "text/plain": [
       "Text(0.5, 1.0, 'Distribution of Restaurant According to Area')"
      ]
     },
     "execution_count": 37,
     "metadata": {},
     "output_type": "execute_result"
    },
    {
     "data": {
      "image/png": "[encoded data removed]",
      "text/plain": [
       "<Figure size 720x720 with 1 Axes>"
      ]
     },
     "metadata": {},
     "output_type": "display_data"
    }
   ],
   "source": [
    "plt.figure(figsize=(10,10))\n",
    "ax = df[\"city\"].value_counts()\n",
    "ax.plot(kind=\"pie\",autopct=\"%.2f\")\n",
    "plt.title(\"Distribution of Restaurant According to Area\",fontsize=25,color=\"yellow\")\n"
   ]
  },
  {
   "cell_type": "markdown",
   "id": "6c52e091",
   "metadata": {},
   "source": [
    "# TOP 10 location restaurants"
   ]
  },
  {
   "cell_type": "code",
   "execution_count": 38,
   "id": "adc72342",
   "metadata": {},
   "outputs": [
    {
     "data": {
      "text/plain": [
       "Index(['online_order', 'book_table', 'rate', 'votes', 'rest_type',\n",
       "       'dish_liked', 'cuisines', 'avg_cost', 'meal_type', 'city'],\n",
       "      dtype='object')"
      ]
     },
     "execution_count": 38,
     "metadata": {},
     "output_type": "execute_result"
    }
   ],
   "source": [
    "df.columns"
   ]
  },
  {
   "cell_type": "code",
   "execution_count": 39,
   "id": "68638df5",
   "metadata": {},
   "outputs": [
    {
     "data": {
      "text/plain": [
       "Text(0, 0.5, 'No of Restaurants')"
      ]
     },
     "execution_count": 39,
     "metadata": {},
     "output_type": "execute_result"
    },
    {
     "data": {
      "image/png": "[encoded data removed]",
      "text/plain": [
       "<Figure size 720x720 with 1 Axes>"
      ]
     },
     "metadata": {
      "needs_background": "light"
     },
     "output_type": "display_data"
    }
   ],
   "source": [
    "plt.figure(figsize=(10,10))\n",
    "lables = df[\"city\"].value_counts()[0:10]\n",
    "lables.plot(kind=\"bar\")\n",
    "plt.title(\"Distribution of Location with High Restaurants\",fontsize=20,color=\"blue\")\n",
    "plt.xlabel(\"Name of Restaurants\")\n",
    "plt.ylabel(\"No of Restaurants\")"
   ]
  },
  {
   "cell_type": "markdown",
   "id": "2bd99681",
   "metadata": {},
   "source": [
    "# Types of Restaurants in City"
   ]
  },
  {
   "cell_type": "code",
   "execution_count": 40,
   "id": "62c71c58",
   "metadata": {},
   "outputs": [
    {
     "data": {
      "text/plain": [
       "Text(0.5, 1.0, 'Distribution of Restaurants in City According to Type')"
      ]
     },
     "execution_count": 40,
     "metadata": {},
     "output_type": "execute_result"
    },
    {
     "data": {
      "image/png": "[encoded data removed]",
      "text/plain": [
       "<Figure size 720x720 with 1 Axes>"
      ]
     },
     "metadata": {},
     "output_type": "display_data"
    }
   ],
   "source": [
    "plt.figure(figsize=(10,10))\n",
    "ty = df[\"rest_type\"].value_counts()[:10]\n",
    "ty.plot(kind=\"pie\")\n",
    "plt.title(\"Distribution of Restaurants in City According to Type\",fontsize=25,color=\"orange\")"
   ]
  },
  {
   "cell_type": "markdown",
   "id": "f3504de0",
   "metadata": {},
   "source": [
    "# Average Cost for 2 Person"
   ]
  },
  {
   "cell_type": "code",
   "execution_count": 41,
   "id": "b98f264e",
   "metadata": {},
   "outputs": [
    {
     "data": {
      "text/plain": [
       "Text(0.5, 1.0, 'Average cost charged for 2 Persons')"
      ]
     },
     "execution_count": 41,
     "metadata": {},
     "output_type": "execute_result"
    },
    {
     "data": {
      "image/png": "[encoded data removed]",
      "text/plain": [
       "<Figure size 720x720 with 1 Axes>"
      ]
     },
     "metadata": {},
     "output_type": "display_data"
    }
   ],
   "source": [
    "plt.figure(figsize=(10,10))\n",
    "avg = df[\"avg_cost\"].value_counts()[:10]\n",
    "avg.plot(kind=\"pie\")\n",
    "plt.title(\"Average cost charged for 2 Persons\",fontsize=25,color=\"yellow\")"
   ]
  },
  {
   "cell_type": "markdown",
   "id": "01de69c1",
   "metadata": {},
   "source": [
    "# Top 10 Dish Liked in Bagalore"
   ]
  },
  {
   "cell_type": "code",
   "execution_count": 42,
   "id": "6706cd6c",
   "metadata": {},
   "outputs": [
    {
     "data": {
      "text/plain": [
       "Text(0.5, 1.0, 'TOp 10 Dish Liked in Bangalore')"
      ]
     },
     "execution_count": 42,
     "metadata": {},
     "output_type": "execute_result"
    },
    {
     "data": {
      "image/png": "[encoded data removed]",
      "text/plain": [
       "<Figure size 720x720 with 1 Axes>"
      ]
     },
     "metadata": {
      "needs_background": "light"
     },
     "output_type": "display_data"
    }
   ],
   "source": [
    "plt.figure(figsize=(10,10))\n",
    "dish = df[\"dish_liked\"].value_counts()[:10]\n",
    "dish.plot(kind=\"bar\")\n",
    "plt.title(\"TOp 10 Dish Liked in Bangalore\",fontsize=25,color=\"darkgreen\")"
   ]
  },
  {
   "cell_type": "markdown",
   "id": "88862898",
   "metadata": {},
   "source": [
    "# Top 10 Cuisines"
   ]
  },
  {
   "cell_type": "code",
   "execution_count": 43,
   "id": "7360a576",
   "metadata": {},
   "outputs": [
    {
     "data": {
      "text/plain": [
       "Text(0.5, 1.0, 'Top 10 Cuisines')"
      ]
     },
     "execution_count": 43,
     "metadata": {},
     "output_type": "execute_result"
    },
    {
     "data": {
      "image/png": "[encoded data removed]",
      "text/plain": [
       "<Figure size 720x720 with 1 Axes>"
      ]
     },
     "metadata": {},
     "output_type": "display_data"
    }
   ],
   "source": [
    "plt.figure(figsize=(10,10))\n",
    "\n",
    "cus = df[\"cuisines\"].value_counts()[:10]\n",
    "cus.plot(kind=\"pie\",autopct=\"%.2f\")\n",
    "plt.title(\"Top 10 Cuisines\",fontsize=25,color=\"darkblue\")\n"
   ]
  },
  {
   "cell_type": "markdown",
   "id": "c0c40b54",
   "metadata": {},
   "source": [
    "# Rate VS Online Order"
   ]
  },
  {
   "cell_type": "code",
   "execution_count": 44,
   "id": "4f088c53",
   "metadata": {},
   "outputs": [
    {
     "data": {
      "text/plain": [
       "Text(0.5, 1.0, 'Online Order Accepting Vs Rate Comparision')"
      ]
     },
     "execution_count": 44,
     "metadata": {},
     "output_type": "execute_result"
    },
    {
     "data": {
      "image/png": "[encoded data removed]",
      "text/plain": [
       "<Figure size 1800x1440 with 1 Axes>"
      ]
     },
     "metadata": {
      "needs_background": "light"
     },
     "output_type": "display_data"
    }
   ],
   "source": [
    "plt.figure(figsize=(25,20))\n",
    "sns.countplot(x=df[\"rate\"],hue=df[\"online_order\"])\n",
    "plt.title(\"Online Order Accepting Vs Rate Comparision\",fontsize=30)\n",
    "\n",
    "        "
   ]
  },
  {
   "cell_type": "code",
   "execution_count": 45,
   "id": "bd31472b",
   "metadata": {},
   "outputs": [],
   "source": [
    "# Typecasting of rate from object into float\n",
    "df[\"rate\"]=df[\"rate\"].astype(\"float\")"
   ]
  },
  {
   "cell_type": "code",
   "execution_count": 46,
   "id": "876ad685",
   "metadata": {},
   "outputs": [],
   "source": [
    "df[\"rate\"]=df[\"rate\"].dropna()"
   ]
  },
  {
   "cell_type": "markdown",
   "id": "479e3f33",
   "metadata": {},
   "source": [
    "# ------------------------------------------------------------------------------------------------------------"
   ]
  },
  {
   "cell_type": "markdown",
   "id": "e1d91c16",
   "metadata": {},
   "source": [
    "# Data Preprocessing\n",
    "# ---------------------------------------------------------------------------------------------------------------"
   ]
  },
  {
   "cell_type": "markdown",
   "id": "66942373",
   "metadata": {},
   "source": [
    "# Now we drop unwanted Columns"
   ]
  },
  {
   "cell_type": "code",
   "execution_count": 47,
   "id": "6f315c17",
   "metadata": {},
   "outputs": [],
   "source": [
    "df = df.drop(['dish_liked','meal_type'],axis=1)"
   ]
  },
  {
   "cell_type": "code",
   "execution_count": 48,
   "id": "2f1546ac",
   "metadata": {},
   "outputs": [
    {
     "data": {
      "text/html": [
       "<div>\n",
       "<style scoped>\n",
       "    .dataframe tbody tr th:only-of-type {\n",
       "        vertical-align: middle;\n",
       "    }\n",
       "\n",
       "    .dataframe tbody tr th {\n",
       "        vertical-align: top;\n",
       "    }\n",
       "\n",
       "    .dataframe thead th {\n",
       "        text-align: right;\n",
       "    }\n",
       "</style>\n",
       "<table border=\"1\" class=\"dataframe\">\n",
       "  <thead>\n",
       "    <tr style=\"text-align: right;\">\n",
       "      <th></th>\n",
       "      <th>online_order</th>\n",
       "      <th>book_table</th>\n",
       "      <th>rate</th>\n",
       "      <th>votes</th>\n",
       "      <th>rest_type</th>\n",
       "      <th>cuisines</th>\n",
       "      <th>avg_cost</th>\n",
       "      <th>city</th>\n",
       "    </tr>\n",
       "  </thead>\n",
       "  <tbody>\n",
       "    <tr>\n",
       "      <th>0</th>\n",
       "      <td>Yes</td>\n",
       "      <td>Yes</td>\n",
       "      <td>4.1</td>\n",
       "      <td>775</td>\n",
       "      <td>Casual Dining</td>\n",
       "      <td>North Indian, Mughlai, Chinese</td>\n",
       "      <td>800</td>\n",
       "      <td>Banashankari</td>\n",
       "    </tr>\n",
       "    <tr>\n",
       "      <th>1</th>\n",
       "      <td>Yes</td>\n",
       "      <td>No</td>\n",
       "      <td>4.1</td>\n",
       "      <td>787</td>\n",
       "      <td>Casual Dining</td>\n",
       "      <td>Chinese, North Indian, Thai</td>\n",
       "      <td>800</td>\n",
       "      <td>Banashankari</td>\n",
       "    </tr>\n",
       "    <tr>\n",
       "      <th>2</th>\n",
       "      <td>Yes</td>\n",
       "      <td>No</td>\n",
       "      <td>3.8</td>\n",
       "      <td>918</td>\n",
       "      <td>Cafe, Casual Dining</td>\n",
       "      <td>Cafe, Mexican, Italian</td>\n",
       "      <td>800</td>\n",
       "      <td>Banashankari</td>\n",
       "    </tr>\n",
       "    <tr>\n",
       "      <th>3</th>\n",
       "      <td>No</td>\n",
       "      <td>No</td>\n",
       "      <td>3.7</td>\n",
       "      <td>88</td>\n",
       "      <td>Quick Bites</td>\n",
       "      <td>South Indian, North Indian</td>\n",
       "      <td>300</td>\n",
       "      <td>Banashankari</td>\n",
       "    </tr>\n",
       "    <tr>\n",
       "      <th>4</th>\n",
       "      <td>No</td>\n",
       "      <td>No</td>\n",
       "      <td>3.8</td>\n",
       "      <td>166</td>\n",
       "      <td>Casual Dining</td>\n",
       "      <td>North Indian, Rajasthani</td>\n",
       "      <td>600</td>\n",
       "      <td>Banashankari</td>\n",
       "    </tr>\n",
       "    <tr>\n",
       "      <th>...</th>\n",
       "      <td>...</td>\n",
       "      <td>...</td>\n",
       "      <td>...</td>\n",
       "      <td>...</td>\n",
       "      <td>...</td>\n",
       "      <td>...</td>\n",
       "      <td>...</td>\n",
       "      <td>...</td>\n",
       "    </tr>\n",
       "    <tr>\n",
       "      <th>51709</th>\n",
       "      <td>No</td>\n",
       "      <td>No</td>\n",
       "      <td>3.7</td>\n",
       "      <td>34</td>\n",
       "      <td>Casual Dining, Bar</td>\n",
       "      <td>North Indian, Continental</td>\n",
       "      <td>800</td>\n",
       "      <td>Whitefield</td>\n",
       "    </tr>\n",
       "    <tr>\n",
       "      <th>51711</th>\n",
       "      <td>No</td>\n",
       "      <td>No</td>\n",
       "      <td>2.5</td>\n",
       "      <td>81</td>\n",
       "      <td>Casual Dining, Bar</td>\n",
       "      <td>Andhra, South Indian, Chinese, North Indian</td>\n",
       "      <td>800</td>\n",
       "      <td>Whitefield</td>\n",
       "    </tr>\n",
       "    <tr>\n",
       "      <th>51712</th>\n",
       "      <td>No</td>\n",
       "      <td>No</td>\n",
       "      <td>3.6</td>\n",
       "      <td>27</td>\n",
       "      <td>Bar</td>\n",
       "      <td>Continental</td>\n",
       "      <td>1500</td>\n",
       "      <td>Whitefield</td>\n",
       "    </tr>\n",
       "    <tr>\n",
       "      <th>51715</th>\n",
       "      <td>No</td>\n",
       "      <td>Yes</td>\n",
       "      <td>4.3</td>\n",
       "      <td>236</td>\n",
       "      <td>Bar</td>\n",
       "      <td>Finger Food</td>\n",
       "      <td>2500</td>\n",
       "      <td>Whitefield</td>\n",
       "    </tr>\n",
       "    <tr>\n",
       "      <th>51716</th>\n",
       "      <td>No</td>\n",
       "      <td>No</td>\n",
       "      <td>3.4</td>\n",
       "      <td>13</td>\n",
       "      <td>Bar, Casual Dining</td>\n",
       "      <td>Finger Food, North Indian, Continental</td>\n",
       "      <td>1500</td>\n",
       "      <td>Whitefield</td>\n",
       "    </tr>\n",
       "  </tbody>\n",
       "</table>\n",
       "<p>43419 rows × 8 columns</p>\n",
       "</div>"
      ],
      "text/plain": [
       "      online_order book_table  rate  votes            rest_type  \\\n",
       "0              Yes        Yes   4.1    775        Casual Dining   \n",
       "1              Yes         No   4.1    787        Casual Dining   \n",
       "2              Yes         No   3.8    918  Cafe, Casual Dining   \n",
       "3               No         No   3.7     88          Quick Bites   \n",
       "4               No         No   3.8    166        Casual Dining   \n",
       "...            ...        ...   ...    ...                  ...   \n",
       "51709           No         No   3.7     34   Casual Dining, Bar   \n",
       "51711           No         No   2.5     81   Casual Dining, Bar   \n",
       "51712           No         No   3.6     27                  Bar   \n",
       "51715           No        Yes   4.3    236                  Bar   \n",
       "51716           No         No   3.4     13   Bar, Casual Dining   \n",
       "\n",
       "                                          cuisines  avg_cost          city  \n",
       "0                   North Indian, Mughlai, Chinese       800  Banashankari  \n",
       "1                      Chinese, North Indian, Thai       800  Banashankari  \n",
       "2                           Cafe, Mexican, Italian       800  Banashankari  \n",
       "3                       South Indian, North Indian       300  Banashankari  \n",
       "4                         North Indian, Rajasthani       600  Banashankari  \n",
       "...                                            ...       ...           ...  \n",
       "51709                    North Indian, Continental       800    Whitefield  \n",
       "51711  Andhra, South Indian, Chinese, North Indian       800    Whitefield  \n",
       "51712                                  Continental      1500    Whitefield  \n",
       "51715                                  Finger Food      2500    Whitefield  \n",
       "51716       Finger Food, North Indian, Continental      1500    Whitefield  \n",
       "\n",
       "[43419 rows x 8 columns]"
      ]
     },
     "execution_count": 48,
     "metadata": {},
     "output_type": "execute_result"
    }
   ],
   "source": [
    "df"
   ]
  },
  {
   "cell_type": "code",
   "execution_count": 49,
   "id": "229773fa",
   "metadata": {},
   "outputs": [
    {
     "data": {
      "text/plain": [
       "online_order       0\n",
       "book_table         0\n",
       "rate            2233\n",
       "votes              0\n",
       "rest_type          0\n",
       "cuisines           0\n",
       "avg_cost           0\n",
       "city               0\n",
       "dtype: int64"
      ]
     },
     "execution_count": 49,
     "metadata": {},
     "output_type": "execute_result"
    }
   ],
   "source": [
    "df.isnull().sum()"
   ]
  },
  {
   "cell_type": "code",
   "execution_count": 50,
   "id": "cde07022",
   "metadata": {},
   "outputs": [],
   "source": [
    "m = df['rate'].mean()\n",
    "df['rate']=df['rate'].fillna(m)"
   ]
  },
  {
   "cell_type": "code",
   "execution_count": 51,
   "id": "190f752f",
   "metadata": {},
   "outputs": [
    {
     "data": {
      "text/plain": [
       "online_order    0\n",
       "book_table      0\n",
       "rate            0\n",
       "votes           0\n",
       "rest_type       0\n",
       "cuisines        0\n",
       "avg_cost        0\n",
       "city            0\n",
       "dtype: int64"
      ]
     },
     "execution_count": 51,
     "metadata": {},
     "output_type": "execute_result"
    }
   ],
   "source": [
    "df.isnull().sum()"
   ]
  },
  {
   "cell_type": "code",
   "execution_count": 52,
   "id": "52edf253",
   "metadata": {},
   "outputs": [
    {
     "data": {
      "text/plain": [
       "(43419, 8)"
      ]
     },
     "execution_count": 52,
     "metadata": {},
     "output_type": "execute_result"
    }
   ],
   "source": [
    "df.shape"
   ]
  },
  {
   "cell_type": "markdown",
   "id": "e289464f",
   "metadata": {},
   "source": [
    "# Encoding the Data"
   ]
  },
  {
   "cell_type": "code",
   "execution_count": 53,
   "id": "37a71768",
   "metadata": {},
   "outputs": [],
   "source": [
    "from sklearn.preprocessing import LabelEncoder\n",
    "\n",
    "le = LabelEncoder()"
   ]
  },
  {
   "cell_type": "code",
   "execution_count": 54,
   "id": "308fbaa9",
   "metadata": {},
   "outputs": [
    {
     "data": {
      "text/plain": [
       "Index(['online_order', 'book_table', 'rate', 'votes', 'rest_type', 'cuisines',\n",
       "       'avg_cost', 'city'],\n",
       "      dtype='object')"
      ]
     },
     "execution_count": 54,
     "metadata": {},
     "output_type": "execute_result"
    }
   ],
   "source": [
    "df.columns"
   ]
  },
  {
   "cell_type": "code",
   "execution_count": 55,
   "id": "8dbb53a9",
   "metadata": {},
   "outputs": [],
   "source": [
    "list1 = [\"online_order\",\"book_table\",\"rest_type\",\"cuisines\",\"city\"]\n",
    "for i in list1:\n",
    "    df[i]=le.fit_transform(df[i])"
   ]
  },
  {
   "cell_type": "code",
   "execution_count": 56,
   "id": "535ef01c",
   "metadata": {},
   "outputs": [
    {
     "data": {
      "text/html": [
       "<div>\n",
       "<style scoped>\n",
       "    .dataframe tbody tr th:only-of-type {\n",
       "        vertical-align: middle;\n",
       "    }\n",
       "\n",
       "    .dataframe tbody tr th {\n",
       "        vertical-align: top;\n",
       "    }\n",
       "\n",
       "    .dataframe thead th {\n",
       "        text-align: right;\n",
       "    }\n",
       "</style>\n",
       "<table border=\"1\" class=\"dataframe\">\n",
       "  <thead>\n",
       "    <tr style=\"text-align: right;\">\n",
       "      <th></th>\n",
       "      <th>online_order</th>\n",
       "      <th>book_table</th>\n",
       "      <th>rate</th>\n",
       "      <th>votes</th>\n",
       "      <th>rest_type</th>\n",
       "      <th>cuisines</th>\n",
       "      <th>avg_cost</th>\n",
       "      <th>city</th>\n",
       "    </tr>\n",
       "  </thead>\n",
       "  <tbody>\n",
       "    <tr>\n",
       "      <th>0</th>\n",
       "      <td>1</td>\n",
       "      <td>1</td>\n",
       "      <td>4.1</td>\n",
       "      <td>775</td>\n",
       "      <td>24</td>\n",
       "      <td>1986</td>\n",
       "      <td>800</td>\n",
       "      <td>1</td>\n",
       "    </tr>\n",
       "    <tr>\n",
       "      <th>1</th>\n",
       "      <td>1</td>\n",
       "      <td>0</td>\n",
       "      <td>4.1</td>\n",
       "      <td>787</td>\n",
       "      <td>24</td>\n",
       "      <td>859</td>\n",
       "      <td>800</td>\n",
       "      <td>1</td>\n",
       "    </tr>\n",
       "    <tr>\n",
       "      <th>2</th>\n",
       "      <td>1</td>\n",
       "      <td>0</td>\n",
       "      <td>3.8</td>\n",
       "      <td>918</td>\n",
       "      <td>19</td>\n",
       "      <td>688</td>\n",
       "      <td>800</td>\n",
       "      <td>1</td>\n",
       "    </tr>\n",
       "    <tr>\n",
       "      <th>3</th>\n",
       "      <td>0</td>\n",
       "      <td>0</td>\n",
       "      <td>3.7</td>\n",
       "      <td>88</td>\n",
       "      <td>73</td>\n",
       "      <td>2335</td>\n",
       "      <td>300</td>\n",
       "      <td>1</td>\n",
       "    </tr>\n",
       "    <tr>\n",
       "      <th>4</th>\n",
       "      <td>0</td>\n",
       "      <td>0</td>\n",
       "      <td>3.8</td>\n",
       "      <td>166</td>\n",
       "      <td>24</td>\n",
       "      <td>2015</td>\n",
       "      <td>600</td>\n",
       "      <td>1</td>\n",
       "    </tr>\n",
       "  </tbody>\n",
       "</table>\n",
       "</div>"
      ],
      "text/plain": [
       "   online_order  book_table  rate  votes  rest_type  cuisines  avg_cost  city\n",
       "0             1           1   4.1    775         24      1986       800     1\n",
       "1             1           0   4.1    787         24       859       800     1\n",
       "2             1           0   3.8    918         19       688       800     1\n",
       "3             0           0   3.7     88         73      2335       300     1\n",
       "4             0           0   3.8    166         24      2015       600     1"
      ]
     },
     "execution_count": 56,
     "metadata": {},
     "output_type": "execute_result"
    }
   ],
   "source": [
    "df.head() # Encoded Data"
   ]
  },
  {
   "cell_type": "markdown",
   "id": "50f9e797",
   "metadata": {},
   "source": [
    "# Data Transformation"
   ]
  },
  {
   "cell_type": "markdown",
   "id": "f3963b13",
   "metadata": {},
   "source": [
    "# Feature Selection and Feature scaling"
   ]
  },
  {
   "cell_type": "markdown",
   "id": "a128b05b",
   "metadata": {},
   "source": [
    "# Selecting the features and Target Column from Data"
   ]
  },
  {
   "cell_type": "code",
   "execution_count": 57,
   "id": "256dad97",
   "metadata": {},
   "outputs": [
    {
     "data": {
      "text/plain": [
       "(43419, 8)"
      ]
     },
     "execution_count": 57,
     "metadata": {},
     "output_type": "execute_result"
    }
   ],
   "source": [
    "df.shape"
   ]
  },
  {
   "cell_type": "code",
   "execution_count": 58,
   "id": "8684085f",
   "metadata": {},
   "outputs": [],
   "source": [
    "df.dropna(how=\"any\",inplace=True)"
   ]
  },
  {
   "cell_type": "code",
   "execution_count": 59,
   "id": "66b7a851",
   "metadata": {},
   "outputs": [
    {
     "data": {
      "text/plain": [
       "(43419, 8)"
      ]
     },
     "execution_count": 59,
     "metadata": {},
     "output_type": "execute_result"
    }
   ],
   "source": [
    "df.shape"
   ]
  },
  {
   "cell_type": "code",
   "execution_count": 60,
   "id": "642d3b23",
   "metadata": {},
   "outputs": [],
   "source": [
    "features = df.drop(['rate'],axis=1)"
   ]
  },
  {
   "cell_type": "code",
   "execution_count": 61,
   "id": "7a7b446c",
   "metadata": {},
   "outputs": [
    {
     "data": {
      "text/plain": [
       "(43419, 7)"
      ]
     },
     "execution_count": 61,
     "metadata": {},
     "output_type": "execute_result"
    }
   ],
   "source": [
    "features.shape"
   ]
  },
  {
   "cell_type": "code",
   "execution_count": 62,
   "id": "dc720293",
   "metadata": {},
   "outputs": [
    {
     "data": {
      "text/plain": [
       "online_order    int32\n",
       "book_table      int32\n",
       "votes           int32\n",
       "rest_type       int32\n",
       "cuisines        int32\n",
       "avg_cost        int32\n",
       "city            int32\n",
       "dtype: object"
      ]
     },
     "execution_count": 62,
     "metadata": {},
     "output_type": "execute_result"
    }
   ],
   "source": [
    "features.dtypes"
   ]
  },
  {
   "cell_type": "code",
   "execution_count": 63,
   "id": "5131b661",
   "metadata": {},
   "outputs": [
    {
     "data": {
      "text/plain": [
       "array([4.1, 4.1, 3.8, ..., 3.6, 4.3, 3.4])"
      ]
     },
     "execution_count": 63,
     "metadata": {},
     "output_type": "execute_result"
    }
   ],
   "source": [
    "label = df['rate'].values\n",
    "label"
   ]
  },
  {
   "cell_type": "markdown",
   "id": "76f7dfff",
   "metadata": {},
   "source": [
    "# Feature Scaling"
   ]
  },
  {
   "cell_type": "markdown",
   "id": "d9a6aa2e",
   "metadata": {},
   "source": [
    "Feature Scaling is a technique to standardize the independent features present in the data in a fixed range."
   ]
  },
  {
   "cell_type": "code",
   "execution_count": 64,
   "id": "4aa6bd29",
   "metadata": {},
   "outputs": [],
   "source": [
    "from sklearn.preprocessing import StandardScaler\n",
    "\n",
    "ss = StandardScaler()"
   ]
  },
  {
   "cell_type": "code",
   "execution_count": 65,
   "id": "a9936b6f",
   "metadata": {},
   "outputs": [
    {
     "data": {
      "text/plain": [
       "array([[ 0.73767947,  2.40504028,  0.51044221, ...,  1.00978385,\n",
       "         0.44707096, -1.59199359],\n",
       "       [ 0.73767947, -0.41579345,  0.52433147, ..., -0.5888885 ,\n",
       "         0.44707096, -1.59199359],\n",
       "       [ 0.73767947, -0.41579345,  0.67595593, ..., -0.83145547,\n",
       "         0.44707096, -1.59199359],\n",
       "       ...,\n",
       "       [-1.35560233, -0.41579345, -0.35532187, ..., -0.51512545,\n",
       "         1.971721  ,  1.79519741],\n",
       "       [-1.35560233,  2.40504028, -0.1134172 , ..., -0.00871371,\n",
       "         4.14979248,  1.79519741],\n",
       "       [-1.35560233, -0.41579345, -0.37152601, ...,  0.02816782,\n",
       "         1.971721  ,  1.79519741]])"
      ]
     },
     "execution_count": 65,
     "metadata": {},
     "output_type": "execute_result"
    }
   ],
   "source": [
    "features = StandardScaler().fit_transform(features)\n",
    "\n",
    "features"
   ]
  },
  {
   "cell_type": "markdown",
   "id": "8d964456",
   "metadata": {},
   "source": [
    "# Splitting The Data"
   ]
  },
  {
   "cell_type": "code",
   "execution_count": 66,
   "id": "e62d6faa",
   "metadata": {},
   "outputs": [],
   "source": [
    "from sklearn.model_selection import train_test_split\n",
    "\n",
    "xtrain,xtest,ytrain,ytest = train_test_split(features,label,test_size=0.2,random_state=1)"
   ]
  },
  {
   "cell_type": "code",
   "execution_count": 67,
   "id": "50235105",
   "metadata": {},
   "outputs": [
    {
     "data": {
      "text/plain": [
       "((34735, 7), (8684, 7), (34735,), (8684,))"
      ]
     },
     "execution_count": 67,
     "metadata": {},
     "output_type": "execute_result"
    }
   ],
   "source": [
    "xtrain.shape,xtest.shape,ytrain.shape,ytest.shape"
   ]
  },
  {
   "cell_type": "code",
   "execution_count": 68,
   "id": "3b748364",
   "metadata": {},
   "outputs": [],
   "source": [
    "from sklearn.metrics import r2_score"
   ]
  },
  {
   "cell_type": "markdown",
   "id": "e80ae900",
   "metadata": {},
   "source": [
    "# Model Building Process"
   ]
  },
  {
   "cell_type": "markdown",
   "id": "1ac75f9d",
   "metadata": {},
   "source": [
    "# Applying Regression Model"
   ]
  },
  {
   "cell_type": "markdown",
   "id": "f0c3697a",
   "metadata": {},
   "source": [
    "# 1.Linear Regression"
   ]
  },
  {
   "cell_type": "code",
   "execution_count": 69,
   "id": "789c663e",
   "metadata": {},
   "outputs": [],
   "source": [
    "from sklearn.linear_model import LinearRegression\n",
    "\n",
    "lr = LinearRegression()\n",
    "\n",
    "lr.fit(xtrain,ytrain)\n",
    "\n",
    "ypred = lr.predict(xtest)"
   ]
  },
  {
   "cell_type": "code",
   "execution_count": 70,
   "id": "fb03c999",
   "metadata": {},
   "outputs": [
    {
     "data": {
      "text/plain": [
       "array([4.70854467, 3.63398461, 3.55543124, ..., 4.11315438, 3.67645237,\n",
       "       4.18432107])"
      ]
     },
     "execution_count": 70,
     "metadata": {},
     "output_type": "execute_result"
    }
   ],
   "source": [
    "ypred"
   ]
  },
  {
   "cell_type": "code",
   "execution_count": 71,
   "id": "9be82df0",
   "metadata": {},
   "outputs": [
    {
     "data": {
      "text/plain": [
       "0.29266157821349437"
      ]
     },
     "execution_count": 71,
     "metadata": {},
     "output_type": "execute_result"
    }
   ],
   "source": [
    "r2_score(ytest,ypred) # Low Accuracy Provided By Linear Regression Model"
   ]
  },
  {
   "cell_type": "markdown",
   "id": "a0ed6b97",
   "metadata": {},
   "source": [
    "# ---------------------------------------------------------------------------------------------------------------"
   ]
  },
  {
   "cell_type": "code",
   "execution_count": 72,
   "id": "9e6cf906",
   "metadata": {},
   "outputs": [
    {
     "data": {
      "text/plain": [
       "RandomForestRegressor()"
      ]
     },
     "execution_count": 72,
     "metadata": {},
     "output_type": "execute_result"
    }
   ],
   "source": [
    "from sklearn.ensemble import RandomForestRegressor\n",
    "rr = RandomForestRegressor()\n",
    "rr\n"
   ]
  },
  {
   "cell_type": "code",
   "execution_count": 73,
   "id": "cb7e07e9",
   "metadata": {},
   "outputs": [],
   "source": [
    "rr.fit(xtrain,ytrain)\n",
    "\n",
    "rpred = rr.predict(xtest)"
   ]
  },
  {
   "cell_type": "code",
   "execution_count": 74,
   "id": "c2b9497a",
   "metadata": {},
   "outputs": [
    {
     "data": {
      "text/plain": [
       "0.9050872277041527"
      ]
     },
     "execution_count": 74,
     "metadata": {},
     "output_type": "execute_result"
    }
   ],
   "source": [
    "r2_score(ytest,rpred)"
   ]
  },
  {
   "cell_type": "code",
   "execution_count": 75,
   "id": "7a653f36",
   "metadata": {},
   "outputs": [],
   "source": [
    "# We Get 90% Accuracy with RandomForestREgressor"
   ]
  },
  {
   "cell_type": "code",
   "execution_count": 76,
   "id": "f27f8aba",
   "metadata": {},
   "outputs": [
    {
     "data": {
      "text/html": [
       "<div>\n",
       "<style scoped>\n",
       "    .dataframe tbody tr th:only-of-type {\n",
       "        vertical-align: middle;\n",
       "    }\n",
       "\n",
       "    .dataframe tbody tr th {\n",
       "        vertical-align: top;\n",
       "    }\n",
       "\n",
       "    .dataframe thead th {\n",
       "        text-align: right;\n",
       "    }\n",
       "</style>\n",
       "<table border=\"1\" class=\"dataframe\">\n",
       "  <thead>\n",
       "    <tr style=\"text-align: right;\">\n",
       "      <th></th>\n",
       "      <th>Actaul</th>\n",
       "      <th>Predicted</th>\n",
       "    </tr>\n",
       "  </thead>\n",
       "  <tbody>\n",
       "    <tr>\n",
       "      <th>0</th>\n",
       "      <td>4.2</td>\n",
       "      <td>4.708545</td>\n",
       "    </tr>\n",
       "    <tr>\n",
       "      <th>1</th>\n",
       "      <td>3.8</td>\n",
       "      <td>3.633985</td>\n",
       "    </tr>\n",
       "    <tr>\n",
       "      <th>2</th>\n",
       "      <td>3.9</td>\n",
       "      <td>3.555431</td>\n",
       "    </tr>\n",
       "    <tr>\n",
       "      <th>3</th>\n",
       "      <td>3.3</td>\n",
       "      <td>3.614592</td>\n",
       "    </tr>\n",
       "    <tr>\n",
       "      <th>4</th>\n",
       "      <td>4.2</td>\n",
       "      <td>4.170074</td>\n",
       "    </tr>\n",
       "    <tr>\n",
       "      <th>...</th>\n",
       "      <td>...</td>\n",
       "      <td>...</td>\n",
       "    </tr>\n",
       "    <tr>\n",
       "      <th>8679</th>\n",
       "      <td>3.9</td>\n",
       "      <td>3.719260</td>\n",
       "    </tr>\n",
       "    <tr>\n",
       "      <th>8680</th>\n",
       "      <td>3.7</td>\n",
       "      <td>3.626826</td>\n",
       "    </tr>\n",
       "    <tr>\n",
       "      <th>8681</th>\n",
       "      <td>4.5</td>\n",
       "      <td>4.113154</td>\n",
       "    </tr>\n",
       "    <tr>\n",
       "      <th>8682</th>\n",
       "      <td>3.9</td>\n",
       "      <td>3.676452</td>\n",
       "    </tr>\n",
       "    <tr>\n",
       "      <th>8683</th>\n",
       "      <td>4.4</td>\n",
       "      <td>4.184321</td>\n",
       "    </tr>\n",
       "  </tbody>\n",
       "</table>\n",
       "<p>8684 rows × 2 columns</p>\n",
       "</div>"
      ],
      "text/plain": [
       "      Actaul  Predicted\n",
       "0        4.2   4.708545\n",
       "1        3.8   3.633985\n",
       "2        3.9   3.555431\n",
       "3        3.3   3.614592\n",
       "4        4.2   4.170074\n",
       "...      ...        ...\n",
       "8679     3.9   3.719260\n",
       "8680     3.7   3.626826\n",
       "8681     4.5   4.113154\n",
       "8682     3.9   3.676452\n",
       "8683     4.4   4.184321\n",
       "\n",
       "[8684 rows x 2 columns]"
      ]
     },
     "execution_count": 76,
     "metadata": {},
     "output_type": "execute_result"
    }
   ],
   "source": [
    "pd.DataFrame(data={\"Actaul\":ytest,\"Predicted\":ypred})"
   ]
  },
  {
   "cell_type": "code",
   "execution_count": 77,
   "id": "bb98d992",
   "metadata": {},
   "outputs": [
    {
     "data": {
      "text/plain": [
       "RandomForestRegressor()"
      ]
     },
     "execution_count": 77,
     "metadata": {},
     "output_type": "execute_result"
    }
   ],
   "source": [
    "rr # Final Model"
   ]
  },
  {
   "cell_type": "code",
   "execution_count": 78,
   "id": "d519c379",
   "metadata": {},
   "outputs": [],
   "source": [
    "# Testing the Model"
   ]
  },
  {
   "cell_type": "code",
   "execution_count": 79,
   "id": "e8d59d74",
   "metadata": {},
   "outputs": [
    {
     "data": {
      "text/plain": [
       "array([4.469])"
      ]
     },
     "execution_count": 79,
     "metadata": {},
     "output_type": "execute_result"
    }
   ],
   "source": [
    "rr.predict([[1,0,13,73,1900,350,27]])"
   ]
  },
  {
   "cell_type": "code",
   "execution_count": 80,
   "id": "a1155050",
   "metadata": {},
   "outputs": [],
   "source": [
    "import pickle"
   ]
  },
  {
   "cell_type": "code",
   "execution_count": 81,
   "id": "2252663b",
   "metadata": {},
   "outputs": [],
   "source": [
    "pickle.dump(rr,open('model.pkl','wb'))"
   ]
  }
 ],
 "metadata": {
  "kernelspec": {
   "display_name": "Python 3 (ipykernel)",
   "language": "python",
   "name": "python3"
  },
  "language_info": {
   "codemirror_mode": {
    "name": "ipython",
    "version": 3
   },
   "file_extension": ".py",
   "mimetype": "text/x-python",
   "name": "python",
   "nbconvert_exporter": "python",
   "pygments_lexer": "ipython3",
   "version": "3.9.12"
  }
 },
 "nbformat": 4,
 "nbformat_minor": 5
}
